import cProfile
from Models.Random.random import Random
from Models.PRA.pra import PRA
from Models.FFPRA.ffpra import FFPRA
from Models.APRA.apra import APRA
from Models.Proximity.proximity import Proximity
from Models.TransE.transe import TransE
from Models.GAT.gat import GAT
from datasets import load_dataset, WIKI, WN18RR, FB15k
from Models.KG import eval_link_completion, hyper_train, browse_mistakes
from Structures.graph import targets


def preload(dataset: str):
	train, valid, test = load_dataset(dataset)
	targets(train, dataset)


# preload(FB15k)

n = 10
cProfile.run("eval_link_completion(n, FB15k, APRA())", sort="cumulative")
# eval_link_completion(n, FB15k, APRA())
# browse_mistakes(n, FB15k, PRA())
